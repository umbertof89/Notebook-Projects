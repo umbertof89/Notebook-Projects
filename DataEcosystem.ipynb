{
 "cells": [
  {
   "cell_type": "markdown",
   "id": "14e6f0d4-da13-4180-9581-799a68ceb311",
   "metadata": {},
   "source": [
    "# Data Science Tool and Ecosystem\n"
   ]
  },
  {
   "cell_type": "markdown",
   "id": "cbb8b302-e45e-4a68-9f37-3a80d6a15d97",
   "metadata": {},
   "source": [
    "##### In this notebook Data Science Tools are summarized"
   ]
  },
  {
   "cell_type": "markdown",
   "id": "0ce81582-964c-4e9e-abc1-55b8701d882a",
   "metadata": {},
   "source": [
    "**Objectives:**\n",
    "* Some of the pupular languages that Data Scientist use\n",
    "* Some of the commonly used libraries used by Data Scientists\n",
    "* Data Science Tools\n",
    "* Examples of evaluating arithmetic expression in Python"
   ]
  },
  {
   "cell_type": "markdown",
   "id": "5e089dc5-77e9-44d2-87ac-f486129b5edd",
   "metadata": {},
   "source": [
    "## Author\n",
    "Umberto Forte"
   ]
  },
  {
   "cell_type": "markdown",
   "id": "07ed4981-b418-4430-b0eb-299acf511d71",
   "metadata": {},
   "source": [
    "## Some of the popular languages that Data Scientist use are:\n",
    "##### - Python\n",
    "##### - R\n",
    "##### - SQL"
   ]
  },
  {
   "cell_type": "markdown",
   "id": "783e1ab0-b47c-485c-9f4a-3f92a6905617",
   "metadata": {},
   "source": [
    "## Some of the commonly used libraries used by Data Scientists include:\n",
    "\n",
    "##### -numpyn\n",
    "##### -pandasR\n",
    "##### -matplotlibL"
   ]
  },
  {
   "cell_type": "markdown",
   "id": "672b62cc-7273-4255-98d5-3cdd2b4fb594",
   "metadata": {},
   "source": [
    "| Data Science Tools | \n",
    "| --- |\n",
    "| Jupyter |\n",
    "| RStudio |\n",
    "| Visual Studio Code |   |843 |"
   ]
  },
  {
   "cell_type": "markdown",
   "id": "3fa0309d-a765-47e0-83db-3a082fbcc8d7",
   "metadata": {},
   "source": [
    "### Below are a few examples of evaluating arithmetic expressions in Python.\r\n",
    "\r\n"
   ]
  },
  {
   "cell_type": "code",
   "execution_count": 43,
   "id": "d39ec41e-da4b-4928-b170-bcfef73318f4",
   "metadata": {},
   "outputs": [
    {
     "data": {
      "text/plain": [
       "17"
      ]
     },
     "execution_count": 43,
     "metadata": {},
     "output_type": "execute_result"
    }
   ],
   "source": [
    "# This a simple arithmetic expression to mutiply then add integers\n",
    "\n",
    "(3*4)+5\n"
   ]
  },
  {
   "cell_type": "code",
   "execution_count": 45,
   "id": "e3515c77-b119-462a-989b-c3e90458f017",
   "metadata": {},
   "outputs": [
    {
     "name": "stdout",
     "output_type": "stream",
     "text": [
      "3.3333333333333335\n"
     ]
    }
   ],
   "source": [
    "#This will convert 200 minutes to hours by diving by 60\n",
    "\n",
    "minutes = 200\n",
    "hours = 200/60\n",
    "\n",
    "print(hours)"
   ]
  },
  {
   "cell_type": "code",
   "execution_count": null,
   "id": "63d7c579-2bbc-42f3-88c4-6c0734114bfe",
   "metadata": {},
   "outputs": [],
   "source": []
  }
 ],
 "metadata": {
  "kernelspec": {
   "display_name": "Python 3 (ipykernel)",
   "language": "python",
   "name": "python3"
  },
  "language_info": {
   "codemirror_mode": {
    "name": "ipython",
    "version": 3
   },
   "file_extension": ".py",
   "mimetype": "text/x-python",
   "name": "python",
   "nbconvert_exporter": "python",
   "pygments_lexer": "ipython3",
   "version": "3.12.4"
  }
 },
 "nbformat": 4,
 "nbformat_minor": 5
}
